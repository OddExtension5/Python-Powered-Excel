{
 "cells": [
  {
   "cell_type": "markdown",
   "metadata": {},
   "source": [
    "# Python-Powered Excel\n",
    "\n",
    "For this small project\n",
    "\n",
    "I work for a small Northeastern Pennsylvania paper company. Every week you have to send reports to Corporate that include data from Sales, Accounting, Supply, and Human Resources. Those reports come individually from four different department heads: Dwight, Angela, Daryl, and Toby.\n",
    "\n",
    "Each one of them has their own particular format that fits the need of their department, but none of them look how Corporate wants the final report to look.\n",
    "I'll be taking those individual reports and ultimately compiling them into the final report for Corporate."
   ]
  },
  {
   "cell_type": "markdown",
   "metadata": {},
   "source": [
    "# The Sales Report"
   ]
  },
  {
   "cell_type": "code",
   "execution_count": 4,
   "metadata": {},
   "outputs": [],
   "source": [
    "#Importing libraries\n",
    "# xlsxwriter: this is the tool we'll use to write our data to Excel.\n",
    "# os: This is a Python module that lets us naviagte files and folders on our operating system.\n",
    "\n",
    "import pandas as pd\n",
    "import xlsxwriter\n",
    "import os"
   ]
  },
  {
   "cell_type": "code",
   "execution_count": 2,
   "metadata": {},
   "outputs": [
    {
     "name": "stdout",
     "output_type": "stream",
     "text": [
      "Collecting XlsxWriter\n",
      "  Downloading https://files.pythonhosted.org/packages/21/48/05167e0aa3294eec000b066f5be5b5ad42c6da686ae6a2c4f61164461c96/XlsxWriter-1.2.0-py2.py3-none-any.whl (140kB)\n",
      "Installing collected packages: XlsxWriter\n",
      "Successfully installed XlsxWriter-1.2.0\n"
     ]
    }
   ],
   "source": [
    "#If you don't have xlsxwriter then install by typing this command in notebook\n",
    "\n",
    "!pip install XlsxWriter"
   ]
  },
  {
   "cell_type": "code",
   "execution_count": 5,
   "metadata": {},
   "outputs": [
    {
     "data": {
      "text/plain": [
       "'C:\\\\Users\\\\ASUS\\\\Desktop\\\\DataScienceBooks\\\\conference\\\\training @safari\\\\python-powered-excel'"
      ]
     },
     "execution_count": 5,
     "metadata": {},
     "output_type": "execute_result"
    }
   ],
   "source": [
    "# Show our current working folder\n",
    "os.getcwd()"
   ]
  },
  {
   "cell_type": "code",
   "execution_count": 6,
   "metadata": {},
   "outputs": [
    {
     "data": {
      "text/plain": [
       "['.git', '.ipynb_checkpoints', 'data', 'README.md', 'Sales.ipynb']"
      ]
     },
     "execution_count": 6,
     "metadata": {},
     "output_type": "execute_result"
    }
   ],
   "source": [
    "# The files in this folder\n",
    "os.listdir()"
   ]
  },
  {
   "cell_type": "code",
   "execution_count": 8,
   "metadata": {},
   "outputs": [
    {
     "data": {
      "text/plain": [
       "['.git', '.ipynb_checkpoints', 'data', 'README.md', 'Sales.ipynb']"
      ]
     },
     "execution_count": 8,
     "metadata": {},
     "output_type": "execute_result"
    }
   ],
   "source": [
    "# The files in the main folder\n",
    "main_dir = os.path.join('.')\n",
    "os.listdir(main_dir)"
   ]
  },
  {
   "cell_type": "code",
   "execution_count": 9,
   "metadata": {},
   "outputs": [
    {
     "data": {
      "text/plain": [
       "['accounting.xlsx',\n",
       " 'accounting_summary_master.xlsx',\n",
       " 'combined_report.xlsx',\n",
       " 'hr_report.xlsx',\n",
       " 'hr_summary_master.xlsx',\n",
       " 'sales.csv',\n",
       " 'supply.xlsx',\n",
       " 'supply_summary_master.xlsx']"
      ]
     },
     "execution_count": 9,
     "metadata": {},
     "output_type": "execute_result"
    }
   ],
   "source": [
    "# The files in the data folder \n",
    "data_dir = os.path.join('.', 'data')\n",
    "os.listdir(data_dir)"
   ]
  },
  {
   "cell_type": "code",
   "execution_count": 10,
   "metadata": {},
   "outputs": [],
   "source": [
    "# Let's put that altogether and read our file into Pandas\n",
    "\n",
    "sales_file = os.path.join(data_dir, 'sales.csv')\n",
    "df = pd.read_csv(sales_file)"
   ]
  },
  {
   "cell_type": "code",
   "execution_count": 15,
   "metadata": {},
   "outputs": [
    {
     "data": {
      "text/html": [
       "<div>\n",
       "<style scoped>\n",
       "    .dataframe tbody tr th:only-of-type {\n",
       "        vertical-align: middle;\n",
       "    }\n",
       "\n",
       "    .dataframe tbody tr th {\n",
       "        vertical-align: top;\n",
       "    }\n",
       "\n",
       "    .dataframe thead th {\n",
       "        text-align: right;\n",
       "    }\n",
       "</style>\n",
       "<table border=\"1\" class=\"dataframe\">\n",
       "  <thead>\n",
       "    <tr style=\"text-align: right;\">\n",
       "      <th></th>\n",
       "      <th>Worker</th>\n",
       "      <th>Month</th>\n",
       "      <th>Client</th>\n",
       "      <th>Qty</th>\n",
       "      <th>Amt</th>\n",
       "      <th>Commission</th>\n",
       "    </tr>\n",
       "  </thead>\n",
       "  <tbody>\n",
       "    <tr>\n",
       "      <th>0</th>\n",
       "      <td>J</td>\n",
       "      <td>3</td>\n",
       "      <td>Blue Cross</td>\n",
       "      <td>3000</td>\n",
       "      <td>15000</td>\n",
       "      <td>2250.0</td>\n",
       "    </tr>\n",
       "    <tr>\n",
       "      <th>1</th>\n",
       "      <td>J</td>\n",
       "      <td>3</td>\n",
       "      <td>Dunmore High</td>\n",
       "      <td>2000</td>\n",
       "      <td>10000</td>\n",
       "      <td>1500.0</td>\n",
       "    </tr>\n",
       "    <tr>\n",
       "      <th>2</th>\n",
       "      <td>J</td>\n",
       "      <td>3</td>\n",
       "      <td>Maguire Advertising</td>\n",
       "      <td>1750</td>\n",
       "      <td>8750</td>\n",
       "      <td>1312.5</td>\n",
       "    </tr>\n",
       "    <tr>\n",
       "      <th>3</th>\n",
       "      <td>J</td>\n",
       "      <td>3</td>\n",
       "      <td>Decker Automotive</td>\n",
       "      <td>1000</td>\n",
       "      <td>5000</td>\n",
       "      <td>750.0</td>\n",
       "    </tr>\n",
       "    <tr>\n",
       "      <th>4</th>\n",
       "      <td>D</td>\n",
       "      <td>3</td>\n",
       "      <td>Lackawanna County</td>\n",
       "      <td>2000</td>\n",
       "      <td>10000</td>\n",
       "      <td>1500.0</td>\n",
       "    </tr>\n",
       "    <tr>\n",
       "      <th>5</th>\n",
       "      <td>D</td>\n",
       "      <td>3</td>\n",
       "      <td>Scranton White Pages</td>\n",
       "      <td>2000</td>\n",
       "      <td>10000</td>\n",
       "      <td>1500.0</td>\n",
       "    </tr>\n",
       "    <tr>\n",
       "      <th>6</th>\n",
       "      <td>D</td>\n",
       "      <td>3</td>\n",
       "      <td>Apex Technology</td>\n",
       "      <td>750</td>\n",
       "      <td>3750</td>\n",
       "      <td>562.5</td>\n",
       "    </tr>\n",
       "    <tr>\n",
       "      <th>7</th>\n",
       "      <td>D</td>\n",
       "      <td>3</td>\n",
       "      <td>Stone, Cooper, Grandy</td>\n",
       "      <td>500</td>\n",
       "      <td>2500</td>\n",
       "      <td>375.0</td>\n",
       "    </tr>\n",
       "    <tr>\n",
       "      <th>8</th>\n",
       "      <td>D</td>\n",
       "      <td>3</td>\n",
       "      <td>Harper Collins</td>\n",
       "      <td>1000</td>\n",
       "      <td>5000</td>\n",
       "      <td>750.0</td>\n",
       "    </tr>\n",
       "    <tr>\n",
       "      <th>9</th>\n",
       "      <td>D</td>\n",
       "      <td>3</td>\n",
       "      <td>Prestige Postal</td>\n",
       "      <td>750</td>\n",
       "      <td>3750</td>\n",
       "      <td>562.5</td>\n",
       "    </tr>\n",
       "  </tbody>\n",
       "</table>\n",
       "</div>"
      ],
      "text/plain": [
       "  Worker  Month                 Client   Qty    Amt  Commission\n",
       "0      J      3             Blue Cross  3000  15000      2250.0\n",
       "1      J      3           Dunmore High  2000  10000      1500.0\n",
       "2      J      3    Maguire Advertising  1750   8750      1312.5\n",
       "3      J      3      Decker Automotive  1000   5000       750.0\n",
       "4      D      3      Lackawanna County  2000  10000      1500.0\n",
       "5      D      3   Scranton White Pages  2000  10000      1500.0\n",
       "6      D      3        Apex Technology   750   3750       562.5\n",
       "7      D      3  Stone, Cooper, Grandy   500   2500       375.0\n",
       "8      D      3         Harper Collins  1000   5000       750.0\n",
       "9      D      3        Prestige Postal   750   3750       562.5"
      ]
     },
     "execution_count": 15,
     "metadata": {},
     "output_type": "execute_result"
    }
   ],
   "source": [
    "df.head(10)"
   ]
  },
  {
   "cell_type": "code",
   "execution_count": 13,
   "metadata": {},
   "outputs": [
    {
     "name": "stdout",
     "output_type": "stream",
     "text": [
      "<class 'pandas.core.frame.DataFrame'>\n",
      "RangeIndex: 62 entries, 0 to 61\n",
      "Data columns (total 6 columns):\n",
      "Worker        62 non-null object\n",
      "Month         62 non-null int64\n",
      "Client        62 non-null object\n",
      "Qty           62 non-null int64\n",
      "Amt           62 non-null int64\n",
      "Commission    62 non-null float64\n",
      "dtypes: float64(1), int64(3), object(2)\n",
      "memory usage: 2.5+ KB\n"
     ]
    }
   ],
   "source": [
    "df.info()"
   ]
  },
  {
   "cell_type": "code",
   "execution_count": 14,
   "metadata": {},
   "outputs": [
    {
     "data": {
      "text/html": [
       "<div>\n",
       "<style scoped>\n",
       "    .dataframe tbody tr th:only-of-type {\n",
       "        vertical-align: middle;\n",
       "    }\n",
       "\n",
       "    .dataframe tbody tr th {\n",
       "        vertical-align: top;\n",
       "    }\n",
       "\n",
       "    .dataframe thead th {\n",
       "        text-align: right;\n",
       "    }\n",
       "</style>\n",
       "<table border=\"1\" class=\"dataframe\">\n",
       "  <thead>\n",
       "    <tr style=\"text-align: right;\">\n",
       "      <th></th>\n",
       "      <th>Worker</th>\n",
       "      <th>Month</th>\n",
       "      <th>Client</th>\n",
       "      <th>Qty</th>\n",
       "      <th>Amt</th>\n",
       "      <th>Commission</th>\n",
       "    </tr>\n",
       "  </thead>\n",
       "  <tbody>\n",
       "    <tr>\n",
       "      <th>57</th>\n",
       "      <td>S</td>\n",
       "      <td>5</td>\n",
       "      <td>Stone and Son</td>\n",
       "      <td>500</td>\n",
       "      <td>2500</td>\n",
       "      <td>375.0</td>\n",
       "    </tr>\n",
       "    <tr>\n",
       "      <th>58</th>\n",
       "      <td>A</td>\n",
       "      <td>5</td>\n",
       "      <td>Bob Vance</td>\n",
       "      <td>550</td>\n",
       "      <td>2750</td>\n",
       "      <td>412.5</td>\n",
       "    </tr>\n",
       "    <tr>\n",
       "      <th>59</th>\n",
       "      <td>A</td>\n",
       "      <td>5</td>\n",
       "      <td>Scranton Animal Shelter</td>\n",
       "      <td>100</td>\n",
       "      <td>500</td>\n",
       "      <td>75.0</td>\n",
       "    </tr>\n",
       "    <tr>\n",
       "      <th>60</th>\n",
       "      <td>A</td>\n",
       "      <td>5</td>\n",
       "      <td>Cornell</td>\n",
       "      <td>0</td>\n",
       "      <td>0</td>\n",
       "      <td>0.0</td>\n",
       "    </tr>\n",
       "    <tr>\n",
       "      <th>61</th>\n",
       "      <td>A</td>\n",
       "      <td>5</td>\n",
       "      <td>Barbara Allen</td>\n",
       "      <td>0</td>\n",
       "      <td>0</td>\n",
       "      <td>0.0</td>\n",
       "    </tr>\n",
       "  </tbody>\n",
       "</table>\n",
       "</div>"
      ],
      "text/plain": [
       "   Worker  Month                   Client  Qty   Amt  Commission\n",
       "57      S      5            Stone and Son  500  2500       375.0\n",
       "58      A      5                Bob Vance  550  2750       412.5\n",
       "59      A      5  Scranton Animal Shelter  100   500        75.0\n",
       "60      A      5                  Cornell    0     0         0.0\n",
       "61      A      5            Barbara Allen    0     0         0.0"
      ]
     },
     "execution_count": 14,
     "metadata": {},
     "output_type": "execute_result"
    }
   ],
   "source": [
    "df.tail()"
   ]
  },
  {
   "cell_type": "markdown",
   "metadata": {},
   "source": [
    "# Replacing Text\n",
    "\n",
    "Instead of using actual employee names, Dwight only used a single letter to identify them. this happens all the time so we know the employees are as follows:\n",
    "\n",
    "+ J: Jim\n",
    "+ D: Dwight\n",
    "+ P: Phyllis\n",
    "+ S: Stanley\n",
    "+ A: Andy"
   ]
  },
  {
   "cell_type": "code",
   "execution_count": 16,
   "metadata": {},
   "outputs": [],
   "source": [
    "employees = {\n",
    "    'J': 'Jim',\n",
    "    'D': 'Dwight',\n",
    "    'P': 'Phyllis',\n",
    "    'S': 'Stanley',\n",
    "    'A': 'Andy'\n",
    "}"
   ]
  },
  {
   "cell_type": "markdown",
   "metadata": {},
   "source": [
    "If we were in Excel, we'd do a **find and replace** for each one of those, which would be time-consuming, especially if we had more than a few names to replace. In pandas, we can simply use **replace** to change them all at once.\n",
    "\n",
    "\n",
    "The **inplace=True** argument tells pandas to overwrite the existing data, rather than just print the result to the screen"
   ]
  },
  {
   "cell_type": "code",
   "execution_count": 25,
   "metadata": {},
   "outputs": [],
   "source": [
    "df['Worker'].replace(employees, inplace=True)"
   ]
  },
  {
   "cell_type": "code",
   "execution_count": 26,
   "metadata": {},
   "outputs": [
    {
     "data": {
      "text/html": [
       "<div>\n",
       "<style scoped>\n",
       "    .dataframe tbody tr th:only-of-type {\n",
       "        vertical-align: middle;\n",
       "    }\n",
       "\n",
       "    .dataframe tbody tr th {\n",
       "        vertical-align: top;\n",
       "    }\n",
       "\n",
       "    .dataframe thead th {\n",
       "        text-align: right;\n",
       "    }\n",
       "</style>\n",
       "<table border=\"1\" class=\"dataframe\">\n",
       "  <thead>\n",
       "    <tr style=\"text-align: right;\">\n",
       "      <th></th>\n",
       "      <th>Worker</th>\n",
       "      <th>Month</th>\n",
       "      <th>Client</th>\n",
       "      <th>Qty</th>\n",
       "      <th>Amt</th>\n",
       "      <th>Commission</th>\n",
       "    </tr>\n",
       "  </thead>\n",
       "  <tbody>\n",
       "    <tr>\n",
       "      <th>0</th>\n",
       "      <td>Jim</td>\n",
       "      <td>3</td>\n",
       "      <td>Blue Cross</td>\n",
       "      <td>3000</td>\n",
       "      <td>15000</td>\n",
       "      <td>2250.0</td>\n",
       "    </tr>\n",
       "    <tr>\n",
       "      <th>1</th>\n",
       "      <td>Jim</td>\n",
       "      <td>3</td>\n",
       "      <td>Dunmore High</td>\n",
       "      <td>2000</td>\n",
       "      <td>10000</td>\n",
       "      <td>1500.0</td>\n",
       "    </tr>\n",
       "    <tr>\n",
       "      <th>2</th>\n",
       "      <td>Jim</td>\n",
       "      <td>3</td>\n",
       "      <td>Maguire Advertising</td>\n",
       "      <td>1750</td>\n",
       "      <td>8750</td>\n",
       "      <td>1312.5</td>\n",
       "    </tr>\n",
       "    <tr>\n",
       "      <th>3</th>\n",
       "      <td>Jim</td>\n",
       "      <td>3</td>\n",
       "      <td>Decker Automotive</td>\n",
       "      <td>1000</td>\n",
       "      <td>5000</td>\n",
       "      <td>750.0</td>\n",
       "    </tr>\n",
       "    <tr>\n",
       "      <th>4</th>\n",
       "      <td>Dwight</td>\n",
       "      <td>3</td>\n",
       "      <td>Lackawanna County</td>\n",
       "      <td>2000</td>\n",
       "      <td>10000</td>\n",
       "      <td>1500.0</td>\n",
       "    </tr>\n",
       "  </tbody>\n",
       "</table>\n",
       "</div>"
      ],
      "text/plain": [
       "   Worker  Month               Client   Qty    Amt  Commission\n",
       "0     Jim      3           Blue Cross  3000  15000      2250.0\n",
       "1     Jim      3         Dunmore High  2000  10000      1500.0\n",
       "2     Jim      3  Maguire Advertising  1750   8750      1312.5\n",
       "3     Jim      3    Decker Automotive  1000   5000       750.0\n",
       "4  Dwight      3    Lackawanna County  2000  10000      1500.0"
      ]
     },
     "execution_count": 26,
     "metadata": {},
     "output_type": "execute_result"
    }
   ],
   "source": [
    "df.head()"
   ]
  },
  {
   "cell_type": "markdown",
   "metadata": {},
   "source": [
    "# Aggregating Data"
   ]
  },
  {
   "cell_type": "code",
   "execution_count": null,
   "metadata": {},
   "outputs": [],
   "source": [
    "sales_by_client = df.groupby(['Client, 'Worker'], as_index=False).\\\n",
    "                               agg({\n",
    "                                    'Qty':[sum],\n",
    "                                    'Amt': [sum]\n",
    "                              \n",
    "                              })"
   ]
  }
 ],
 "metadata": {
  "kernelspec": {
   "display_name": "Python 3",
   "language": "python",
   "name": "python3"
  },
  "language_info": {
   "codemirror_mode": {
    "name": "ipython",
    "version": 3
   },
   "file_extension": ".py",
   "mimetype": "text/x-python",
   "name": "python",
   "nbconvert_exporter": "python",
   "pygments_lexer": "ipython3",
   "version": "3.7.1"
  }
 },
 "nbformat": 4,
 "nbformat_minor": 2
}
